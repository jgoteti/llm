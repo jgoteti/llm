{
  "nbformat": 4,
  "nbformat_minor": 0,
  "metadata": {
    "colab": {
      "provenance": [],
      "authorship_tag": "ABX9TyOsq07W+cijKqJkA2o/wHNG",
      "include_colab_link": true
    },
    "kernelspec": {
      "name": "python3",
      "display_name": "Python 3"
    }
  },
  "cells": [
    {
      "cell_type": "markdown",
      "metadata": {
        "id": "view-in-github",
        "colab_type": "text"
      },
      "source": [
        "<a href=\"https://colab.research.google.com/github/jgoteti/llm/blob/main/My_Own_Classification_Model.ipynb\" target=\"_parent\"><img src=\"https://colab.research.google.com/assets/colab-badge.svg\" alt=\"Open In Colab\"/></a>"
      ]
    },
    {
      "cell_type": "code",
      "execution_count": null,
      "metadata": {
        "colab": {
          "base_uri": "https://localhost:8080/"
        },
        "id": "f2a4vc0fMPsV",
        "outputId": "77dd9a26-673d-420a-85b8-510107877257"
      },
      "outputs": [
        {
          "output_type": "stream",
          "name": "stdout",
          "text": [
            "main_label\n",
            "Not_Promotional    2272\n",
            "Promotional         876\n",
            "Name: count, dtype: int64\n",
            "main_label\n",
            "Not_Promotional    1143\n",
            "Promotional         980\n",
            "Name: count, dtype: int64\n"
          ]
        }
      ],
      "source": [
        "import pandas as pd\n",
        "from sklearn.model_selection import train_test_split\n",
        "from sklearn.feature_extraction.text import TfidfVectorizer\n",
        "from sklearn.neural_network import MLPClassifier\n",
        "from sklearn.metrics import accuracy_score\n",
        "\n",
        "def transform_value(value):\n",
        "  if value.isdigit():\n",
        "    return 0\n",
        "  else:\n",
        "    return 1\n",
        "\n",
        "# Load training data\n",
        "train_data = pd.read_csv('train_data.csv')\n",
        "\n",
        "# Load test data\n",
        "test_data = pd.read_csv('test_data.csv')\n",
        "\n",
        "test_data.head()\n",
        "\n",
        "print(train_data['main_label'].value_counts())\n",
        "print(test_data['main_label'].value_counts())\n",
        "\n"
      ]
    },
    {
      "cell_type": "code",
      "source": [
        "train_labels.shape[0]"
      ],
      "metadata": {
        "colab": {
          "base_uri": "https://localhost:8080/"
        },
        "id": "Wxa98wPELOUo",
        "outputId": "bdf29056-c911-4f5b-9a46-2d8fbc5efe73"
      },
      "execution_count": null,
      "outputs": [
        {
          "output_type": "execute_result",
          "data": {
            "text/plain": [
              "3148"
            ]
          },
          "metadata": {},
          "execution_count": 38
        }
      ]
    },
    {
      "cell_type": "code",
      "source": [
        "# Split training data into training and validation sets\n",
        "train_texts, val_texts, train_labels, val_labels = train_test_split(\n",
        "    train_data[['sender_id', 'text']], train_data['main_label'], test_size=0.2, random_state=42\n",
        ")\n",
        "\n",
        "print(train_texts.shape)\n",
        "print(val_texts.shape)\n",
        "print(train_labels.shape)\n",
        "print(val_labels.shape)"
      ],
      "metadata": {
        "colab": {
          "base_uri": "https://localhost:8080/"
        },
        "id": "QsdlN7TRkjxC",
        "outputId": "578f0a33-8e70-49be-a513-1c7e2688293c"
      },
      "execution_count": null,
      "outputs": [
        {
          "output_type": "stream",
          "name": "stdout",
          "text": [
            "(2518, 2)\n",
            "(630, 2)\n",
            "(2518,)\n",
            "(630,)\n"
          ]
        }
      ]
    },
    {
      "cell_type": "code",
      "source": [
        "# Vectorize text data using TF-IDF\n",
        "# TODO: Use a better vectorizer\n",
        "vectorizer = TfidfVectorizer()\n",
        "train_texts_tfidf = vectorizer.fit_transform(train_texts['text'])\n",
        "val_texts_tfidf = vectorizer.transform(val_texts['text'])\n",
        "test_data_tfidf = vectorizer.transform(test_data['text'])"
      ],
      "metadata": {
        "id": "-kMnHkjkHwm9"
      },
      "execution_count": null,
      "outputs": []
    },
    {
      "cell_type": "code",
      "source": [
        "# convert sender to a binary feature\n",
        "# TODO: make a pipeline instead of repeating the steps\n",
        "train_sender = train_texts['sender_id'].apply(transform_value)\n",
        "val_sender = val_texts['sender_id'].apply(transform_value)\n",
        "test_sender = test_data['sender_id'].apply(transform_value)\n"
      ],
      "metadata": {
        "id": "24oQtRT1xnEo"
      },
      "execution_count": null,
      "outputs": []
    },
    {
      "cell_type": "code",
      "source": [
        "from scipy.sparse import hstack, csr_matrix\n",
        "\n",
        "print(train_sender.shape)\n",
        "print(train_texts_tfidf.shape)\n",
        "# print(csr_matrix(train_sender).reshape(2518, 1).shape)\n",
        "# Convert binary feature to sparse matrix\n",
        "train_sender_sparse = csr_matrix(train_sender).reshape(-1, 1)\n",
        "val_sender_sparse = csr_matrix(val_sender).reshape(-1, 1)\n",
        "test_sender_sparse = csr_matrix(test_sender).reshape(-1, 1)\n",
        "\n",
        "# Combine features\n",
        "combined_train_features = hstack([train_sender_sparse, train_texts_tfidf])\n",
        "combined_val_features = hstack([val_sender_sparse, val_texts_tfidf])\n",
        "combined_test_features = hstack([test_sender_sparse, test_data_tfidf])\n",
        "print(combined_train_features.shape)\n",
        "print(train_labels.shape)"
      ],
      "metadata": {
        "colab": {
          "base_uri": "https://localhost:8080/"
        },
        "id": "-XlqGdO91OS_",
        "outputId": "fd9f63b4-a3fe-482e-ceef-db3fdf9f2c3f"
      },
      "execution_count": null,
      "outputs": [
        {
          "output_type": "stream",
          "name": "stdout",
          "text": [
            "(2518,)\n",
            "(2518, 6812)\n",
            "(2518, 6813)\n",
            "(2518,)\n"
          ]
        }
      ]
    },
    {
      "cell_type": "code",
      "source": [
        "# Create a neural network classifier\n",
        "classifier = MLPClassifier(hidden_layer_sizes=(100, 50), activation='logistic', solver='adam',\n",
        "                          alpha=0.0001, batch_size='auto', learning_rate='constant',\n",
        "                          learning_rate_init=0.001, power_t=0.5, max_iter=200,\n",
        "                          shuffle=True, random_state=None, tol=0.0001,\n",
        "                          verbose=False, warm_start=False, momentum=0.9,\n",
        "                          nesterovs_momentum=True, early_stopping=False,\n",
        "                          validation_fraction=0.1, beta_1=0.9, beta_2=0.999,\n",
        "                          epsilon=1e-08, n_iter_no_change=10)\n",
        "\n",
        "# Train the classifier\n",
        "classifier.fit(combined_train_features, train_labels)\n",
        "\n",
        "# Make predictions on validation set\n",
        "val_predictions = classifier.predict(combined_val_features)\n",
        "\n",
        "# Evaluate performance on validation set\n",
        "val_accuracy = accuracy_score(val_labels, val_predictions)\n",
        "print(\"Validation Accuracy:\", val_accuracy)\n",
        "\n",
        "# Make predictions on test set\n",
        "test_predictions = classifier.predict(combined_test_features)\n",
        "\n",
        "print(test_predictions)\n",
        "\n",
        "# Evaluate performance on test set\n",
        "test_accuracy = accuracy_score(test_data['main_label'], test_predictions)\n",
        "print(\"Test Accuracy:\", test_accuracy)\n"
      ],
      "metadata": {
        "colab": {
          "base_uri": "https://localhost:8080/"
        },
        "id": "u33-GoVHQPbB",
        "outputId": "ff64d43b-18d0-422f-c7e2-8489cba8e305"
      },
      "execution_count": null,
      "outputs": [
        {
          "output_type": "stream",
          "name": "stdout",
          "text": [
            "Validation Accuracy: 0.9682539682539683\n",
            "['Promotional' 'Not_Promotional' 'Promotional' ... 'Not_Promotional'\n",
            " 'Not_Promotional' 'Not_Promotional']\n",
            "Test Accuracy: 0.8365520489872822\n"
          ]
        }
      ]
    }
  ]
}